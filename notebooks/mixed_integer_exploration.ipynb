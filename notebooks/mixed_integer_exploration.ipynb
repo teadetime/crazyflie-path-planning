{
 "cells": [
  {
   "cell_type": "code",
   "execution_count": 1,
   "id": "b3a338cd-591c-4f6c-97ea-1f242ae3756d",
   "metadata": {},
   "outputs": [],
   "source": [
    "import numpy as np\n",
    "\n",
    "import plotly.graph_objects as go"
   ]
  },
  {
   "cell_type": "code",
   "execution_count": null,
   "id": "9f3b9d6c-353c-4ca1-acb1-eaacba0463c1",
   "metadata": {},
   "outputs": [],
   "source": [
    "# L1 box obstacle example for single agnet"
   ]
  }
 ],
 "metadata": {
  "kernelspec": {
   "display_name": "Python 3 (ipykernel)",
   "language": "python",
   "name": "python3"
  },
  "language_info": {
   "codemirror_mode": {
    "name": "ipython",
    "version": 3
   },
   "file_extension": ".py",
   "mimetype": "text/x-python",
   "name": "python",
   "nbconvert_exporter": "python",
   "pygments_lexer": "ipython3",
   "version": "3.8.10"
  }
 },
 "nbformat": 4,
 "nbformat_minor": 5
}
